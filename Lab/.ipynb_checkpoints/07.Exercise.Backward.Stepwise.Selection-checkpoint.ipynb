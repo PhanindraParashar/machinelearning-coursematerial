{
 "cells": [
  {
   "cell_type": "code",
   "execution_count": 32,
   "metadata": {},
   "outputs": [],
   "source": [
    "import pandas as pd\n",
    "import numpy as np\n",
    "\n",
    "d = pd.read_csv('../data/auto-mpg.csv')"
   ]
  },
  {
   "cell_type": "code",
   "execution_count": 33,
   "metadata": {},
   "outputs": [],
   "source": [
    "label = 'mpg'\n",
    "features = [c for c in d.columns if c != label]"
   ]
  },
  {
   "cell_type": "code",
   "execution_count": 34,
   "metadata": {},
   "outputs": [],
   "source": [
    "X = d[features]\n",
    "y = d[label]\n",
    "p = len(features)"
   ]
  },
  {
   "cell_type": "code",
   "execution_count": 35,
   "metadata": {},
   "outputs": [],
   "source": [
    "from sklearn.linear_model import LinearRegression\n",
    "from sklearn.model_selection import KFold, cross_validate\n",
    "from sklearn.preprocessing import StandardScaler\n",
    "from sklearn.pipeline import make_pipeline\n",
    "from sklearn.metrics import mean_squared_error\n",
    "from itertools import combinations\n",
    "\n",
    "model = make_pipeline(StandardScaler(), LinearRegression())\n",
    "kfold = KFold(n_splits=5, shuffle=True, random_state=0)\n",
    "\n",
    "def get_base_mse(y):\n",
    "    predictions = [np.mean(y)] * len(y)\n",
    "    return mean_squared_error(y, predictions)\n",
    "\n",
    "def k_fold_mse(X, y):\n",
    "    scores = cross_validate(model, X, y, scoring='neg_mean_squared_error', cv=kfold)\n",
    "    return np.mean(scores['test_score']) * -1\n",
    "\n",
    "def backward_stepwise_selection(X, y):\n",
    "    current_mse = k_fold_mse(X, y)\n",
    "    current_features = features[:] # Use [:] to make a copy\n",
    "    \n",
    "    best_mse = current_mse\n",
    "    best_features = current_features[:]\n",
    "    \n",
    "    while len(current_features) > 0:\n",
    "        selected_feature = None\n",
    "        \n",
    "        for feature in current_features:\n",
    "            new_features = [f for f in current_features if f != feature]\n",
    "            mse = k_fold_mse(X[new_features], y)\n",
    "            \n",
    "            if mse < current_mse:\n",
    "                selected_feature = feature\n",
    "                current_mse = mse\n",
    "        \n",
    "        if selected_feature is not None:\n",
    "            current_features.remove(selected_feature)\n",
    "        else:\n",
    "            break\n",
    "            \n",
    "    if current_mse < get_base_mse(y):\n",
    "        return current_features\n",
    "    else:\n",
    "        return []"
   ]
  },
  {
   "cell_type": "code",
   "execution_count": 36,
   "metadata": {},
   "outputs": [],
   "source": [
    "selected = backward_stepwise_selection(X, y)"
   ]
  },
  {
   "cell_type": "code",
   "execution_count": 37,
   "metadata": {},
   "outputs": [
    {
     "name": "stdout",
     "output_type": "stream",
     "text": [
      "Selected feature: cylinders\n",
      "Selected feature: displacement\n",
      "Selected feature: hp\n",
      "Selected feature: weight\n",
      "Selected feature: year\n",
      "Selected feature: origin\n",
      "Non-selected feature: acceleration\n"
     ]
    }
   ],
   "source": [
    "for f in selected:\n",
    "    print(f\"Selected feature: {f}\")\n",
    "\n",
    "for f in (set(features) - set(selected)):\n",
    "    print(f\"Non-selected feature: {f}\")"
   ]
  }
 ],
 "metadata": {
  "kernelspec": {
   "display_name": "Python 3",
   "language": "python",
   "name": "python3"
  },
  "language_info": {
   "codemirror_mode": {
    "name": "ipython",
    "version": 3
   },
   "file_extension": ".py",
   "mimetype": "text/x-python",
   "name": "python",
   "nbconvert_exporter": "python",
   "pygments_lexer": "ipython3",
   "version": "3.7.4"
  }
 },
 "nbformat": 4,
 "nbformat_minor": 2
}
