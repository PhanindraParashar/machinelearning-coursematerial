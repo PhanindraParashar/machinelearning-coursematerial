{
 "cells": [
  {
   "cell_type": "markdown",
   "metadata": {},
   "source": [
    "## Classification problems\n",
    "\n",
    "Until now, we have used regression problems as our examples.\n",
    "The reason for this was mostly that reasoning about regression and the math behind it are easier, as labels are numerical, and many time one can choose the Mean Squared Error as the loss function, without thinking too much about it.\n",
    "\n",
    "In classification problems, on the other hand, the label is categorical.\n",
    "This means that we have to find a numerical way to assess the model's accuracy, and we cannot use the label's value $Y_i$, as we did before, because these values are not numerical.\n",
    "Because classification problems are so widespread and important, we will spend some time talking about what loss functions we can use, and what models we can build to create accurate classifiers."
   ]
  },
  {
   "cell_type": "markdown",
   "metadata": {},
   "source": [
    "## Loss functions for binary classification"
   ]
  },
  {
   "cell_type": "markdown",
   "metadata": {},
   "source": [
    "We start our discussion considering the easiest type of classification problems: *binary* classification.\n",
    "In this case, there are only two possible labels to predict.\n",
    "These are conventionally called \"positive\" and \"negative\", \"0\" and \"1\", \"-1\" and \"1\".\n",
    "Practically, the two labels can have whatever value: spam/not-spam, dog/cat, etc."
   ]
  },
  {
   "cell_type": "markdown",
   "metadata": {},
   "source": [
    "![](../figures/binary-classification.png)"
   ]
  },
  {
   "cell_type": "markdown",
   "metadata": {},
   "source": [
    "Considering binary classification first, let's think of simple ways we might rate the quality of a model that predicts the positive/negative labels (such a model is called a *binary classifier*).\n",
    "The most immediate choice for the loss function is perhaps the **accuracy**: how many times did the model give the correct prediction?\n",
    "If, out of 100 samples, the model correctly predicted the label in 94 cases, we can say its accuracy is 94%."
   ]
  },
  {
   "cell_type": "markdown",
   "metadata": {},
   "source": [
    "In terms of the loss function $\\ell$ that we introduced at the beginning of the course, using the accuracy means to use (up to a re-scaling constant to keep the score between 0% and 100%) the 0-1 loss function:\n",
    "$$\\ell(Y, \\hat{Y}) = \\begin{cases}0 & \\text{ if } Y = \\hat{Y} \\\\ 1 & \\text{ otherwise}\\end{cases}$$\n",
    "From a numerical optimisation point of view, we *don't like* this loss function, because it is non-convex and non-smooth.\n",
    "As we have seen earlier, when training the model we prefer functions with nice mathematical properties and the 0-1 loss doesn't have any of our favourite properties."
   ]
  },
  {
   "cell_type": "markdown",
   "metadata": {},
   "source": [
    "But using the accuracy and the 0-1 loss function has at least one more disadvantage.\n",
    "To realise what it is, consider the following example: we have a dataset where the label is Positive 99% of the time, and Negative 1% of the time.\n",
    "Because Negative is the minority class, we are interested in spotting exactly those data points whose label is Negative.\n",
    "If I were to produce a model that simply predicted Positive all the time, such a model would be completely useless, because it would not be able to identify the elements of class Negative, which are precisely the elements we care the most about.\n",
    "However, such a useless model would still have an accuracy of 99%!"
   ]
  },
  {
   "cell_type": "markdown",
   "metadata": {},
   "source": [
    "Here we have, then, the first problem with just considering accuracy: it doesn't work when the two classes are *unbalanced*, i.e., when one class is much more common than the other.\n",
    "For a binary classifier, in fact, there are four relevant conditions that can happen when producing a prediction: the real label is Positive, and the prediction was Positive; the real label is Positive, and the prediction was Negative; the real label is Negative, and the prediction was Positive; the real label is Negative, and the prediction was Negative.\n",
    "Each of these four cases means something different to us, especially in the case of unbalanced classes, where the underlying real-world problem is probably to spot the elements of the minority class.\n",
    "The four cases have specific names, respectively *True Positive*, *False Negative*, *False Positive*, and *True Negative*.\n",
    "They are depicted in the picture below:"
   ]
  },
  {
   "cell_type": "markdown",
   "metadata": {},
   "source": [
    "![](../figures/confusion-matrix.png)"
   ]
  },
  {
   "cell_type": "markdown",
   "metadata": {},
   "source": [
    "This picture reports also many more metrics of the quality of a binary classifier, each of which can be used as a loss function (in principle).\n",
    "Here, we are only going to focus on **recall** and **precision**.\n",
    "\n",
    "The first indicates the number of True Positive cases over the total number of Positive elements.\n",
    "In other words, it tells us the accuracy of our model, when we restrict it to elements of the Positive class.\n",
    "It answers the question: when given an element of the Positive class, is the model able to correctly identify it?\n",
    "\n",
    "The second is given by the ratio between True Positive cases and the total number of times that the model predicted Positive.\n",
    "This metric tells us the accuracy of our model, restricted to the cases when it predicted Positive.\n",
    "It answers the question: when predicting Positive, how often was the model correct?\n",
    "\n",
    "Can these two metrics help us in the case of an unbalanced dataset?"
   ]
  },
  {
   "cell_type": "markdown",
   "metadata": {},
   "source": [
    "Assume that the majority class is Positive, and the minority class is Negative.\n",
    "What would happen to a \"cheating\" model that predicts Positive all the time, without looking at the features of the data points?\n",
    "Because such a model would give the correct answer every time the real label is Positive, it will have a very high recall.\n",
    "In the example above, with 100 points and a 99%-1% split of the labels, the model would have a recall of 99/99 = 1.0.\n",
    "What about the precision?\n",
    "The model predicted Positive 100 times; out of these, it was correct 99 times.\n",
    "Therefore its precision is 0.99.\n",
    "As we can see, the model appears to have both high recall and high precision!\n",
    "(Remember that both quantities are between 0 and 1).\n",
    "\n",
    "Are, then, these measures useless?\n",
    "\n",
    "Let's now swap the labels, and call Positive what was Negative, and Negative what was Positive.\n",
    "These are just arbitrary labels, so it doesn't matter which of the two classes we call Positive, and which we call Negative.\n",
    "When we do the swap, Positive is now the minority class with just 1% of the data points, and Negative is the majority class with 99% of the data.\n",
    "In this case, our cheating model would just predict Negative every time.\n",
    "\n",
    "What happens to recall and precision?\n",
    "Because the model never correctly predicts Positive, the True Positive rate is 0.\n",
    "The recall, therefore, is 0/99 = 0: a terrible value, which is what we want.\n",
    "The case for the precision is even worse, because the number of True Positives is 0 and the number of times when the model predicted Positive is also 0, so we have an undetermined value 0/0.\n",
    "But even if the model *did* predict Positive at least once, the zero at the numerator would make the precision equal to 0, so again a terrible value."
   ]
  },
  {
   "cell_type": "markdown",
   "metadata": {},
   "source": [
    "Here we go, then: recall and precision can help us identify bad models even in case of unbalanced data.\n",
    "To do so, however, we need to take care that we compute them on the *minority* class!"
   ]
  },
  {
   "cell_type": "markdown",
   "metadata": {},
   "source": [
    "But when it comes to model selection, how can we use these two metrics?\n",
    "We want a number describing the quality of our model, so we can rank models.\n",
    "But if we have two numbers, it could happen that - between two models - one has better precision and worse recall, and one has worse precision but better recall.\n",
    "We need, then, a way to \"condensate\" these two numbers into one.\n",
    "This summary score is called the **F1-score**, and is defined as\n",
    "$$\\text{F}_1 = \\frac{2}{\\frac{1}{\\text{Recall}} + \\frac{1}{\\text{Precision}}}$$"
   ]
  },
  {
   "cell_type": "markdown",
   "metadata": {},
   "source": [
    "Notice how a perfect model, with Recall = 1.0 and Precision = 1.0, would have an F1-score of 1.0.\n",
    "A terrible model, with Recall ~ 0.0 and Precision ~ 0.0, would have an F1-score ~ 0.\n",
    "Indeed, the F1 score works analogously to the R-squared score... in the sense that it is a number between 0 and 1, where values close to 0 indicate very bad models, and values close to 1 indicate very good ones."
   ]
  },
  {
   "cell_type": "markdown",
   "metadata": {},
   "source": [
    "### Surrogate loss functions\n",
    "\n",
    "Using a metric such as the F1-score can help our model by giving importance to the right class, but it still suffers from the disadvantages we mentioned before about the accuracy, in terms of numerical properties.\n",
    "In many cases, then, we opt for choosing loss functions which act as surrogate: they are continuous functions (wherease classification is an inherently discrete problem), but they have nicer numerical properties such as convexity.\n",
    "\n",
    "For the loss function to be continuous, however, it means that the prediction needs to be continuous.\n",
    "This means we now have the problem of having to translate a numeric, continuous prediction into a category.\n",
    "In the following, we present two ways of doing it."
   ]
  },
  {
   "cell_type": "markdown",
   "metadata": {},
   "source": [
    "#### Outputting a probability\n",
    "\n",
    "The models outputs a probability $p$ that the observation belongs to the positive class.\n",
    "Therefore, the probability that the observation belongs to the negative class is $q = 1-p$.\n",
    "In this case the models could say: I think this $X_i$ is \"positive\" with 60% probability (and \"negative\" with 40%).\n",
    "\n",
    "How to use this information to make a prediction depends on us.\n",
    "Typically you would choose as the predicted class, the one which has probability $>50\\%$.\n",
    "In some cases, however, you might want to change this threshold; for example, if a false positive is much more expensive than a false negative.\n",
    "Think of a model which needs to predict is a patient has cancer: answering in the affermative to a healthy patient is inconvenient, but answering in the negative to a sick patient is much worse.\n",
    "\n",
    "In any case, we now have a continuous prediction (a number $p \\in [0,1]$) and we can use a continuous loss function.\n",
    "For example, a popular classification model using this approach is **logistic regression** which probably most of us already know.\n",
    "In this case, the loss function is (assuming we assign the classes numerical values 0 for \"positive\" and 1 for \"negative\"):\n",
    "\n",
    "$$\\ell(Y, \\hat{Y}) = - Y \\log \\hat{Y} - (1 - Y) \\log (1 - \\hat{Y})$$"
   ]
  },
  {
   "cell_type": "code",
   "execution_count": 3,
   "metadata": {},
   "outputs": [
    {
     "data": {
      "image/png": "[encoded data removed]",
      "text/plain": [
       "<Figure size 1152x576 with 2 Axes>"
      ]
     },
     "metadata": {
      "needs_background": "light"
     },
     "output_type": "display_data"
    }
   ],
   "source": [
    "import numpy as np\n",
    "import matplotlib.pyplot as plt\n",
    "\n",
    "def loss(y, yhat):\n",
    "    return -y * np.log(yhat) - (1 - y) * np.log(1 - yhat)\n",
    "\n",
    "def plot_loss(y, ax):\n",
    "    yhat = np.linspace(0 + 0.0001, 1 - 0.0001, 500)\n",
    "    l = loss(y, yhat)\n",
    "    ax.plot(yhat, l)\n",
    "    ax.axvline(y, c='r')\n",
    "    ax.set_xlabel(r\"$\\hat{Y}$\")\n",
    "    ax.set_ylabel(r\"$\\ell(Y, \\hat{Y})$\")\n",
    "    ax.set_title(r\"Loss function when $Y = {}$\".format(y))\n",
    "    return ax\n",
    "\n",
    "fig, axes = plt.subplots(1, 2, figsize=(16,8))\n",
    "plot_loss(0, axes[0]);\n",
    "plot_loss(1, axes[1]);"
   ]
  },
  {
   "cell_type": "markdown",
   "metadata": {},
   "source": [
    "We will not dwelve on logistic regression much, and we will not give any Bayesian interpretation of classification, but in the next class we will give a very brief introduction to logistic regression and explain why and when it can be a useful tool in the belt of the data scientist."
   ]
  },
  {
   "cell_type": "markdown",
   "metadata": {},
   "source": [
    "#### Outputting a confidence score\n",
    "\n",
    "Another option is that the calssifier outputs a confidence score (also called a *margin*) for each of the two classes.\n",
    "The highest the margin, the more the classifier is confident that the observation belongs to the corresponding category.\n",
    "The predicted category, then, can be the one with the highest margin although (as in the case of probabilities) other criteria are possible, if we want to give specific weights to false positives and negatives.\n",
    "\n",
    "The reason some classifiers output probabilities and other use margins is mostly the result of different approaches taken when devising these methods.\n",
    "\n",
    "The scores can be converted into probabilities, if we want to.\n",
    "A naive way is to simply scale them:\n",
    "$$p = \\frac{S_{\\text{positive}}}{S_{\\text{positive}} + S_{\\text{negative}}} \\quad q = 1 - p = \\frac{S_{\\text{negative}}}{S_{\\text{positive}} + S_{\\text{negative}}}$$\n",
    "where $S_{\\text{positive}}$ is the score associated with the positive class and $S_{\\text{negative}}$ is the score associated with the negative class.\n",
    "Better yet, though, would be to use some scaling method based on maximum likelihood.\n",
    "The most well-known is [Platt scaling](https://en.wikipedia.org/wiki/Platt_scaling).\n",
    "\n",
    "An example of a classifier using margins is a Support Vector Machine, which we will analyse extensively.\n",
    "The loss function (if we assign the classes numerical values \"-1\" for negative and \"1\" for positive) is\n",
    "$$\\ell(Y, \\hat{Y}) = \\max \\{ 0, 1 - Y \\hat{Y} \\}$$"
   ]
  },
  {
   "cell_type": "markdown",
   "metadata": {},
   "source": [
    "### ROC-AUC score\n",
    "\n",
    "Consider a binary classification model that outputs a probability that an observation is of the positive class.\n",
    "As we discussed above, one way to \"translate\" the probability (say $p$) into a predicted class, is to predict *positive* when $p \\geq 0.5$ and *negative* when $p < 0.5$.\n",
    "However, choosing the natural threshold of 0.5 might not necessarily lead to best prediction accuracy, e.g., in presence of unbalanced classes.\n",
    "One can then ask how changing this threshold, i.e., sliding it from 0 to 1, affects the predictor.\n",
    "\n",
    "It's clear that if we slide it all the way up to 1, then we never predict *positive*.\n",
    "In this case, the false positive rate is 0 (because we never *incorrectly* predict positive, since we don't predict positive at all).\n",
    "Similarly, however, the true positive rate is also 0... such a model is not so useful!\n",
    "\n",
    "If we slide the threshold all the way down to 0, converseley, we always predict positive.\n",
    "The true positive rate is then trivially 1, because every time there was a point with a positive true label, we actually predicted \"positive\" for it.\n",
    "On the other hand, the false positive rate is also 1, because every time there was a point with a negative true label, we still predicted \"positive\".\n",
    "Again, a model which is not so useful.\n",
    "\n",
    "If the two extremes are not very interesting, good models must then lie somewhere in between!\n",
    "We can graphically represent what we said above with the following picture:"
   ]
  },
  {
   "cell_type": "code",
   "execution_count": 110,
   "metadata": {},
   "outputs": [
    {
     "data": {
      "image/png": "[encoded data removed]",
      "text/plain": [
       "<Figure size 576x576 with 1 Axes>"
      ]
     },
     "metadata": {
      "needs_background": "light"
     },
     "output_type": "display_data"
    }
   ],
   "source": [
    "fig, ax = plt.subplots(figsize=(8,8))\n",
    "ax.scatter([0], [0], label='Threshold = 1')\n",
    "ax.scatter([1], [1], label='Threshold = 0')\n",
    "ax.set_xlabel('False positive rate')\n",
    "ax.set_ylabel('True positive rate')\n",
    "ax.legend();"
   ]
  },
  {
   "cell_type": "markdown",
   "metadata": {},
   "source": [
    "Notice that a \"perfect\" model would have a false positive rate of 0, and a true positive rate of 1.\n",
    "Therefore, in our chart it would be in the top-left corner:"
   ]
  },
  {
   "cell_type": "code",
   "execution_count": 111,
   "metadata": {},
   "outputs": [],
   "source": [
    "ax.scatter([0], [1], label='Perfect model')\n",
    "ax.legend();"
   ]
  },
  {
   "cell_type": "code",
   "execution_count": 112,
   "metadata": {},
   "outputs": [
    {
     "data": {
      "image/png": "[encoded data removed]",
      "text/plain": [
       "<Figure size 576x576 with 1 Axes>"
      ]
     },
     "execution_count": 112,
     "metadata": {},
     "output_type": "execute_result"
    }
   ],
   "source": [
    "fig"
   ]
  },
  {
   "cell_type": "markdown",
   "metadata": {},
   "source": [
    "In general, given a classifier that outputs a probability, we can change the threshold and plot the corresponding point in the chart above.\n",
    "Its coordinate on the horizontal axis will be the False positive rate, and the one on the vertical axis, its True positive rate."
   ]
  },
  {
   "cell_type": "markdown",
   "metadata": {},
   "source": [
    "The following image from Wikipedia is quite informative:\n",
    "![](https://upload.wikimedia.org/wikipedia/commons/3/36/ROC_space-2.png)"
   ]
  },
  {
   "cell_type": "markdown",
   "metadata": {},
   "source": [
    "There are a few things to notice:\n",
    "* In case of balanced classes, a model corresponding to a random guess would get a point on the diagonal: it has the same rate of true and false positives. In fact, the diagonal takes the name of *line of no-discrimination*.\n",
    "* Points above the diagonal correspond to classifiers that perform better than random guessing; points below the diagonal correspond to classifiers which perform worse than random guessing!\n",
    "* However, we don't have to deal with points below the diagonal: if a classifier performs worse than random guessing, just swap its predictions (really predict \"positive\" when the classifier outputs \"negative\", and \"negative\" when it outpus \"positive\"). In this case you will end up on a point which is symmetric with respect to the diagonal, as are points C and C' in the picture above.\n",
    "* Looking at this picture, we can easily see how some models can dominate others. For example, the model that produced point C' has better True positive and False positive rates than the model that produced point A. Therefore, we should prefer model C' to model A.\n",
    "* Other times, however, it's impossible to establish a dominance criterion. For example, if a model has better True positive rate but worse False positive rate than another, none of them dominates the other."
   ]
  },
  {
   "cell_type": "markdown",
   "metadata": {},
   "source": [
    "Note how there are two factors now at play that determine the TPR and FPR.\n",
    "One is the model itself; for example, Logistic Regression vs. a Bayesian Classifier, etc.\n",
    "The second one is the chosen threshold: for a given model, changing the threshold will change the reported TPR and FPR.\n",
    "In fact, the threshold behaves similarly to a hyperparameter.\n",
    "We can ask, then, how does the model change as we change the threshold.\n",
    "\n",
    "With the following example, we analyse a binary classification problem in which a breast tumor has to be classified as either benign or malignant.\n",
    "We will use a simple Logistic Regression model and we will change its threshold from 0.0 to 1.0, in steps of 0.05, to see what happens to the FPR and TPR.\n",
    "\n",
    "For the purposes of this example, we just split the dataset into 75% training and 25% test.\n",
    "Furthermore, for didactic purposes I compute the FPR and TPR manually but - as you will see later on in this notebook - `sklearn` gives automatic ways of computing these values."
   ]
  },
  {
   "cell_type": "code",
   "execution_count": 126,
   "metadata": {},
   "outputs": [],
   "source": [
    "import pandas as pd\n",
    "import numpy as np\n",
    "from sklearn.linear_model import LogisticRegression\n",
    "from sklearn.datasets import load_breast_cancer\n",
    "from sklearn.model_selection import train_test_split"
   ]
  },
  {
   "cell_type": "code",
   "execution_count": 127,
   "metadata": {},
   "outputs": [],
   "source": [
    "d = load_breast_cancer()\n",
    "\n",
    "# Inputs\n",
    "X = d['data']\n",
    "# Labels (represented as 0 and 1 in this dataset)\n",
    "y = d['target']\n",
    "\n",
    "# Train-test split, with 75% training and 25% test (validation)\n",
    "X_train, X_test, y_train, y_test = train_test_split(X, y, test_size=.25, random_state=0)\n",
    "\n",
    "# We train a Logistic Regression model on the training data\n",
    "model = LogisticRegression(solver='lbfgs', max_iter=10000).fit(X_train, y_train)\n",
    "\n",
    "# We collect all the predictions for the test data.\n",
    "# We use method predict_probe, which gives the probability that each point\n",
    "# belongs to each class. Because there are only two classes, for each point\n",
    "# in X_test, this method retuns a pair of the type (p, 1-p) where p is the\n",
    "# probability that the point belongs to the first class (class 0) and 1-p is\n",
    "# the probability that the point belongs to the second class (class 1).\n",
    "predictions = model.predict_proba(X_test)\n",
    "\n",
    "# We consider thresholds from 0.0 to 1.0, in steps of 0.05.\n",
    "thresholds = np.linspace(0.0, 1.0, 21)\n",
    "\n",
    "# We will put in these lists the TPRs and FPRs corresponding to each threshold.\n",
    "# We call class 1 the positive class, and class 0 the negative class, so the\n",
    "# TPR and FPR are relative to class 1.\n",
    "tprs = list()\n",
    "fprs = list()\n",
    "\n",
    "for threshold in thresholds:\n",
    "    tpr = fpr = 0\n",
    "    \n",
    "    for pred_y, true_y in zip(predictions, y_test):\n",
    "        # If the true class is 1 (positive), and we predicted\n",
    "        # positive, this is a True Positive.\n",
    "        if true_y == 1 and pred_y[1] > threshold:\n",
    "            tpr += 1\n",
    "            \n",
    "        # If the true class is 0 (negative), but we predicted\n",
    "        # positive, this is a False Positive.\n",
    "        if true_y == 0 and pred_y[1] > threshold:\n",
    "            fpr += 1\n",
    "    \n",
    "    # The true positive rate is the number of True Positives,\n",
    "    # divided by the number of real positive labels.\n",
    "    tprs.append(tpr / len(y_test[y_test == 1]))\n",
    "    \n",
    "    # The false positive reate is the number of False Positives,\n",
    "    # divided by the number of real negative labels.\n",
    "    fprs.append(fpr / len(y_test[y_test == 0]))"
   ]
  },
  {
   "cell_type": "code",
   "execution_count": 128,
   "metadata": {},
   "outputs": [
    {
     "data": {
      "image/png": "[encoded data removed]",
      "text/plain": [
       "<Figure size 576x576 with 1 Axes>"
      ]
     },
     "metadata": {
      "needs_background": "light"
     },
     "output_type": "display_data"
    }
   ],
   "source": [
    "fig, ax = plt.subplots(figsize=(8,8))\n",
    "ax.scatter(fprs, tprs)\n",
    "ax.set_xlabel('False positive rate')\n",
    "ax.set_ylabel('True positive rate')\n",
    "\n",
    "for i, t in enumerate(thresholds):\n",
    "    ax.text(fprs[i] + 0.01, tprs[i], f\"{t:.2f}\", ha='left', va='center', fontsize=8)"
   ]
  },
  {
   "cell_type": "markdown",
   "metadata": {},
   "source": [
    "This graph looks correct, i.e. the point corresponding to a threshold of 1 lies at the bottom-left corner (FPR = 0, TPR = 1); the point corresponding to a threshold of 0 lies at the top-right corner (FPR = 1, TPR = 1).\n",
    "\n",
    "To remove clutter, however, this graph is usually depicted without the labels representing the threshold and using lines instead of the points.\n",
    "Furthermore, as anticipated earlier, `sklearn` gives us tools to easily create such charts without having to keep track of FPR and TPR by hand.\n",
    "So a less didactical but quicker implementation giving a nice chart looks like this:"
   ]
  },
  {
   "cell_type": "code",
   "execution_count": 129,
   "metadata": {},
   "outputs": [],
   "source": [
    "from sklearn.metrics import roc_curve\n",
    "fprs, tprs, thresholds = roc_curve(y_test, model.predict_proba(X_test)[:,1])"
   ]
  },
  {
   "cell_type": "code",
   "execution_count": 130,
   "metadata": {},
   "outputs": [
    {
     "data": {
      "image/png": "[encoded data removed]",
      "text/plain": [
       "<Figure size 576x576 with 1 Axes>"
      ]
     },
     "metadata": {
      "needs_background": "light"
     },
     "output_type": "display_data"
    }
   ],
   "source": [
    "fig, ax = plt.subplots(figsize=(8,8))\n",
    "ax.plot(fprs, tprs, label='Logistic Regression')\n",
    "ax.set_xlabel('False positive rate')\n",
    "ax.set_ylabel('True positive rate')\n",
    "ax.set_title(r\"All models with thresholds $0, 0.05, 0.1, \\ldots, 0.95, 1.0$\");"
   ]
  },
  {
   "cell_type": "markdown",
   "metadata": {},
   "source": [
    "As we can see, there was no value of the threshold producing a \"perfect\" model (TPR = 1, FPR = 0), but overall the quality of the Logistic Regression model used was quite good: many points are nearby the top-left corner."
   ]
  },
  {
   "cell_type": "markdown",
   "metadata": {},
   "source": [
    "The curve depicted in the chart above is called the **Receiver Operating Characteristic** (ROC).\n",
    "It's an important tool for understating the quality of a model and how it reacts to different thresholds.\n",
    "\n",
    "However, it opens a new question when doing model selection.\n",
    "In fact, we have different TPR and FPR when varying the probability threshold.\n",
    "Furthermore, we cannot decide on the \"best\" threshold value, because they give rise to undominated points; for example, a threshold will give better TPR but worse FPR than another one.\n",
    "How can we then compare different models (say, Logistic Regression vs. a Naive Bayesian Classifier) if each model is not... just a model, but rather a collection of different models, one for each chosen value of the threshold?\n",
    "\n",
    "One thing we could do is to try and plot the ROC curves for both models.\n",
    "Let's try it in our example:"
   ]
  },
  {
   "cell_type": "code",
   "execution_count": 131,
   "metadata": {},
   "outputs": [
    {
     "data": {
      "image/png": "[encoded data removed]",
      "text/plain": [
       "<Figure size 576x576 with 1 Axes>"
      ]
     },
     "execution_count": 131,
     "metadata": {},
     "output_type": "execute_result"
    }
   ],
   "source": [
    "from sklearn.naive_bayes import GaussianNB\n",
    "\n",
    "# Our second model is a Naive Bayes Classifier with a Gaussian likelihood for the features.\n",
    "model2 = GaussianNB().fit(X_train, y_train)\n",
    "fprs2, tprs2, thresholds2 = roc_curve(y_test, model2.predict_proba(X_test)[:,1])\n",
    "ax.plot(fprs2, tprs2, label='Naive Bayes Classifier')\n",
    "ax.legend()\n",
    "fig"
   ]
  },
  {
   "cell_type": "markdown",
   "metadata": {},
   "source": [
    "In our case it's evident that the Logistic Regression model outperforms the Naive Bayes Classifier.\n",
    "In other cases, such a domininace might not be clear.\n",
    "Again, Wikipedia presents an example of a comparison between three classifiers where it's not clear which one performs best:\n",
    "\n",
    "![](https://upload.wikimedia.org/wikipedia/commons/6/6b/Roccurves.png)"
   ]
  },
  {
   "cell_type": "markdown",
   "metadata": {},
   "source": [
    "All three curves are the most \"top-left-y\" in at least some part of the chart.\n",
    "In a case like this, how could we perform model selection?\n",
    "\n",
    "As usual, we provide a very pragmatic answer: let's transform each curve into a number.\n",
    "In our case, we want a number from 0 to 1 that gives a high score to curves that have points close to the top-left corner, and a low score to curves that approach the line of no-discrimination.\n",
    "It turns out that calculating the area under the curve has exactly these properties!\n",
    "\n",
    "That's how the ROC-AUC (Receiver Operating Characteristic - **Area Under the Curve**) score is born.\n",
    "With this tool in our toolbox, we can now associate a single score to each model and perform model selection.\n",
    "This score combines information coming from different possible values of the threshold.\n",
    "Once model selection is over and the final model is trained, we can then decide which threshold to use in production, using domain-specific knowledge to assess the \"cost\" of a False positive or a False negative.\n",
    "\n",
    "One approach is that, after model selection is over, one computes the F1 score associated to each point in the ROC curve of the winning model, and chooses the threshold level corresponding to the highest F1 score."
   ]
  },
  {
   "cell_type": "markdown",
   "metadata": {},
   "source": [
    "To complete the example above, we display the ROC-AUC scores of our Logistic Regression and Naive Bayes Classifier."
   ]
  },
  {
   "cell_type": "code",
   "execution_count": 132,
   "metadata": {},
   "outputs": [
    {
     "name": "stdout",
     "output_type": "stream",
     "text": [
      "Logistic Regression score: 0.9953878406708596\n",
      "Naive Bayes score: 0.990146750524109\n"
     ]
    }
   ],
   "source": [
    "from sklearn.metrics import roc_auc_score\n",
    "\n",
    "print(f\"Logistic Regression score: {roc_auc_score(y_test, model.decision_function(X_test))}\")\n",
    "print(f\"Naive Bayes score: {roc_auc_score(y_test, model2.predict_proba(X_test)[:,1])}\")"
   ]
  },
  {
   "cell_type": "markdown",
   "metadata": {},
   "source": [
    "As you can see, both have high scores but the Logistic Regression model has a higher one, as it was evident from plotting the ROC curves."
   ]
  },
  {
   "cell_type": "markdown",
   "metadata": {},
   "source": [
    "### Recap"
   ]
  },
  {
   "cell_type": "markdown",
   "metadata": {},
   "source": [
    "There are many possible measures of accuracy for binary classifiers.\n",
    "Some of them are quantitative, such as the Precision, the Recall, the F1-score, or the AUC-ROC.\n",
    "Some of them are qualitative, such as comparing ROC curves.\n",
    "\n",
    "They also have, as a rule of thumb, different properties: for example, the AUC-ROC is not very sensitive and might lead to an optimistic bias when classes are unbalanced, while the F1-score fares better in this respect.\n",
    "Other scores are popular depending on the community of reference, for example [cross entropy](https://en.wikipedia.org/wiki/Cross_entropy) is popular in the Neural Network community, with [Brier score](https://en.wikipedia.org/wiki/Brier_score) gaining popularity.\n",
    "\n",
    "In general, the choice of accuracy score is a crucial part of the model selection process which needs to be done on a case-by-case basis, taking into account domain knowledge, insights from data exploration, and researching the pros and cons of each metric.\n",
    "\n",
    "Finally, we need to take care not to confuse the *loss function* used by a classifier during training with the *accuracy score* we use for model selection.\n",
    "Some loss functions are also commonly used as accuracy scores; for example, cross-entropy (sometimes called \"log loss\" when used as a loss function).\n",
    "In other cases, we can train a model with one loss function, and perform model selection using another one.\n",
    "For example, we might train a linear support vector classifier (which uses the hinge loss) and then evaluate its F1-score."
   ]
  }
 ],
 "metadata": {
  "kernelspec": {
   "display_name": "Python 3",
   "language": "python",
   "name": "python3"
  },
  "language_info": {
   "codemirror_mode": {
    "name": "ipython",
    "version": 3
   },
   "file_extension": ".py",
   "mimetype": "text/x-python",
   "name": "python",
   "nbconvert_exporter": "python",
   "pygments_lexer": "ipython3",
   "version": "3.7.4"
  }
 },
 "nbformat": 4,
 "nbformat_minor": 2
}
