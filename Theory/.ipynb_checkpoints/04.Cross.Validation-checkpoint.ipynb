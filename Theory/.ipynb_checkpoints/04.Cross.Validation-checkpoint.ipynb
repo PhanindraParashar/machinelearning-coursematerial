{
 "cells": [
  {
   "cell_type": "code",
   "execution_count": 1,
   "metadata": {},
   "outputs": [],
   "source": [
    "import pandas as pd\n",
    "import numpy as np\n",
    "import seaborn as sns\n",
    "import matplotlib\n",
    "import matplotlib.pyplot as plt\n",
    "sns.set_style(\"darkgrid\")\n",
    "matplotlib.rcParams['figure.figsize'] = (14, 10)"
   ]
  },
  {
   "cell_type": "markdown",
   "metadata": {},
   "source": [
    "During the previous class we have seen that the holdout validation method yields biased estimations.\n",
    "This is because the test MSE (or whatever other loss function we use) is estimated using a model trained only on part of the data, not on the whole dataset.\n",
    "\n",
    "## Leave-one-out cross-validation\n",
    "\n",
    "The observation above naturally leads to the following reasoning.\n",
    "If we can improve the quality of our predictions by training on more data, why don't we increase the size of the training set?\n",
    "To an extreme, we could use 100% of the data as training data.\n",
    "This approach is quite common, for example, in econometrics.\n",
    "In that field, the quality of a model mostly derives from how good it is at explaining causal relations among inputs and from how easily interpretable it is.\n",
    "In Machine Learning, however, we assess the quality of a model based on how well it can predict labels on new data.\n",
    "Therefore, we cannot use 100% of the data for training, or else we would not have any data left to measure the accuracy of the model.\n",
    "\n",
    "But we can do what, from this point of view, is the next-best thing: use all data points *but one* for training, and one single data point for validation.\n",
    "In this case, the model will be almost as good as a model trained over the whole data set: it was trained on $n - 1$ out of $n$ points.\n",
    "However, the estimate of the MSE based on the only test data point left, will be extremely variable.\n",
    "Imagine: what would happen if the only point we leave out for testing is an outlier?\n",
    "\n",
    "Fortunately, there is an easy way to reduce the variance of this estimation: averaging.\n",
    "In particular, we can repeat the above procedure $n$ times.\n",
    "Each time we will leave one data point out, and train the model on the remaining $n - 1$ points.\n",
    "\n",
    "If using the MSE as the loss function, we would then calculate the squared error on the single point left out, say point $i$, and call it $\\text{MSE}_i = (Y_i - \\hat{Y}_i)^2$.\n",
    "At the end, as an estimation of the *true* error we will use the average of the terms $\\text{MSE}_i$:\n",
    "\n",
    "$$\\text{MSE}_\\text{Validation} = \\frac{1}{n} \\sum_{i=1}^n \\text{MSE}_i$$"
   ]
  },
  {
   "cell_type": "markdown",
   "metadata": {},
   "source": [
    "This method of estimating the true error is called **leave-one-out cross-validation** (LOOCV).\n",
    "Notice that it doesn't suffer from the two issues that a simple 50-50 split had:\n",
    "\n",
    "* While before the estimation of the error depended on the random nature of the split, we now have a completely deterministic method.\n",
    "With the holdout validation method, in fact, the points forming the test set were selected at random; with LOOCV, each point in turn will be used to compute the error of exactly one model in a completely predetermined way.\n",
    "* While before the test MSE tended to overstimate the *true* MSE, this effect is now extremely reduced. Each instance of the model, in fact, is trained on $n-1$ out of the $n$ available points and, therefore, is almost as good as a model trained on all data.\n",
    "\n",
    "The drawback is that now we need to fit our model $n$ times.\n",
    "This can be very expensive for large values of $n$ or if fitting each individual model is slow."
   ]
  },
  {
   "cell_type": "markdown",
   "metadata": {},
   "source": [
    "Let's see what MSE estimate we get, if we use LOOCV on the quadratic regression model with LASSO regularisation, which we have seen during the previous class."
   ]
  },
  {
   "cell_type": "code",
   "execution_count": 4,
   "metadata": {},
   "outputs": [],
   "source": [
    "# Data preparation, as we have done before.\n",
    "d = pd.read_csv('../data/auto-mpg.csv')\n",
    "label_column = 'mpg'\n",
    "feature_columns = [c for c in d.columns if c != label_column]\n",
    "X = d[feature_columns].values\n",
    "y = d[label_column].values"
   ]
  },
  {
   "cell_type": "code",
   "execution_count": 6,
   "metadata": {},
   "outputs": [],
   "source": [
    "from sklearn.linear_model import Lasso\n",
    "from sklearn.preprocessing import PolynomialFeatures, StandardScaler\n",
    "from sklearn.pipeline import make_pipeline\n",
    "\n",
    "model = make_pipeline(\n",
    "    StandardScaler(),\n",
    "    PolynomialFeatures(degree = 2),\n",
    "    Lasso(alpha = 0.0316, max_iter = 10000))"
   ]
  },
  {
   "cell_type": "code",
   "execution_count": 7,
   "metadata": {},
   "outputs": [],
   "source": [
    "from sklearn.model_selection import LeaveOneOut\n",
    "mses = list()\n",
    "\n",
    "for train_index, test_index in LeaveOneOut().split(X):\n",
    "    # X_train will contain n-1 points, X_test will contain 1\n",
    "    X_train, X_test = X[train_index], X[test_index]\n",
    "    # Y_train will contain n-1 labels, Y_test will contain 1\n",
    "    y_train, y_test = y[train_index], y[test_index]\n",
    "    \n",
    "    model.fit(X_train, y_train)\n",
    "    prediction = model.predict(X_test)\n",
    "    squared_error = (y_test[0] - prediction[0]) ** 2\n",
    "    mses.append(squared_error)"
   ]
  },
  {
   "cell_type": "code",
   "execution_count": 8,
   "metadata": {},
   "outputs": [],
   "source": [
    "estimated_mse = np.mean(mses)"
   ]
  },
  {
   "cell_type": "code",
   "execution_count": 10,
   "metadata": {},
   "outputs": [
    {
     "name": "stdout",
     "output_type": "stream",
     "text": [
      "Estimated MSE using LOOCV: 7.7467\n"
     ]
    }
   ],
   "source": [
    "print(f\"Estimated MSE using LOOCV: {estimated_mse:.4f}\")"
   ]
  },
  {
   "cell_type": "markdown",
   "metadata": {},
   "source": [
    "As we would expect, this estimate is lower than the estimate obtained using the holdout validation method.\n",
    "This is because the models used to obtain this estimation are \"better\", in the sense that they have been trained on more data points."
   ]
  },
  {
   "cell_type": "markdown",
   "metadata": {},
   "source": [
    "In summary, we have seen that:\n",
    "\n",
    "* Splitting the data in half gives an estimate of the true MSE which is biased.\n",
    "This is because the MSE is overestimated by this method, due to the fact that the model is trained on a small amount of data.\n",
    "* Using leave-one-out cross-validation gives an almost unbiased estimate of the true MSE.\n",
    "This is because each model is trained on almost the complete data set.\n",
    "* However, leave-one-out cross-validation is computationally more expensive to perform.\n",
    "When using more complex models and larger datasets, it becomes practically impossible to use LOOCV to estimate the MSE of our models.\n",
    "Furthermore, it's generally acknowledged that LOOCV error estimates can suffer from high variance (see [1](https://stats.stackexchange.com/questions/61783/bias-and-variance-in-leave-one-out-vs-k-fold-cross-validation/357749#357749) and [2](https://stats.stackexchange.com/questions/280665/variance-of-k-fold-cross-validation-estimates-as-fk-what-is-the-role-of/358278#358278))."
   ]
  },
  {
   "cell_type": "markdown",
   "metadata": {},
   "source": [
    "### $k$-fold cross-validation\n",
    "\n",
    "Because LOOCV is computationally expensive, we aim at finding some kind of intermediate method which mitigates the high bias of the holdout validation method, and is less expensive than LOOCV.\n",
    "\n",
    "One such method is **$k$-fold cross-validation**.\n",
    "With this approach, given a number $k$ (with $2 \\leq k \\leq n$), we divide the dataset into $k$ subsets of roughly the same size.\n",
    "We then use $k-1$ of these subsets as the training set, and one (say, subset $i$) as the test set.\n",
    "Computing the MSE (or, eventually, another loss function) when the $i$-th subset is used as the test set, we obtain a test MSE which we call $\\text{MSE}_i$.\n",
    "By repeating this procedure $k$ times, each time leaving out a different subset as the test set, we can estimate the *true* error of the model as:\n",
    "\n",
    "$$\\text{MSE}_\\text{Validation} = \\frac{1}{k} \\sum_{i=1}^k \\text{MSE}_i$$\n",
    "\n",
    "We can easily see that the holdout validation method is obtained for $k = 2$ (with the difference that in $2$-fold validation we then swap the training and test set, which both contain 50% of the data, and average the two estimations) and leave-one-out cross-validation is obtained for $k = n$.\n",
    "\n",
    "Typical values used for $k$ are $5$ or $10$.\n",
    "These values have been empirically shown to provide good estimates of the *true* MSE and, at the same time, are easy on the CPU, as they only require the model to be trained 5 or 10 times, respectively.\n",
    "The figure below ([source](https://medium.com/@sebastiannorena/some-model-tuning-methods-bfef3e6544f0)) gives a schematic representation of 10-fold cross-validation."
   ]
  },
  {
   "cell_type": "markdown",
   "metadata": {},
   "source": [
    "![](../figures/10fold-cv.png)"
   ]
  },
  {
   "cell_type": "markdown",
   "metadata": {},
   "source": [
    "It's interesting to see how the MSE estimate varies when increasing the value of $k$, as we expect that training the models on larger and larger portions of the data should improve their quality and, therefore, decrease the MSE.\n",
    "With the next chunk of code, I repeat $k$-fold cross-validation for values of $k$ from 2 to 100, using again the auto dataset and the quadratic regression + LASSO model.\n",
    "At the end, I plot the $\\text{MSE}_\\text{Validation}$ obtained for each value of $k$."
   ]
  },
  {
   "cell_type": "code",
   "execution_count": 103,
   "metadata": {},
   "outputs": [],
   "source": [
    "from sklearn.model_selection import cross_val_score\n",
    "from sklearn.model_selection import KFold\n",
    "\n",
    "ks = range(2, 101)\n",
    "test_mses = list()\n",
    "\n",
    "for k in ks:\n",
    "    kfold = KFold(n_splits = k, shuffle = True, random_state = 1)\n",
    "    neg_fold_mses = cross_val_score(model, X, y, scoring = 'neg_mean_squared_error', cv = kfold, n_jobs = 4)\n",
    "    neg_test_mse = np.mean(neg_fold_mses)\n",
    "    test_mses.append(-1 * neg_test_mse)"
   ]
  },
  {
   "cell_type": "code",
   "execution_count": 104,
   "metadata": {},
   "outputs": [],
   "source": [
    "# Linear regression on the values of the test MSE vs. the k used in k-fold cross-validation.\n",
    "# This regression has no \"scientific\" meaning, it's just to plot a nice line on the plot below.\n",
    "from scipy import stats\n",
    "a, b, _, _, _ = stats.linregress(ks, test_mses)"
   ]
  },
  {
   "cell_type": "code",
   "execution_count": 105,
   "metadata": {},
   "outputs": [
    {
     "data": {
      "image/png": "[encoded data removed]",
      "text/plain": [
       "<Figure size 1008x720 with 1 Axes>"
      ]
     },
     "metadata": {},
     "output_type": "display_data"
    }
   ],
   "source": [
    "fig, ax = plt.subplots()\n",
    "\n",
    "ax.scatter(ks, test_mses)\n",
    "ax.plot(ks, a * ks + b, '--', color = 'r')\n",
    "ax.set_xlabel(r\"$k$ of $k$-fold CV\")\n",
    "ax.set_ylabel(\"Estimated MSE\");"
   ]
  },
  {
   "cell_type": "markdown",
   "metadata": {},
   "source": [
    "### A complete example\n",
    "\n",
    "Here we show a complete example of how to perform model validation and estimate the MSE of the chosen model, using again the auto dataset and the three models analysed during the previous class.\n",
    "\n",
    "In this case, we want to accomplish two things:\n",
    "* Select the best model (and its hyperparameters, if any) among a few proposals.\n",
    "* Estimates what the performance of the selected model will be on new data.\n",
    "\n",
    "The first objective will be accomplished using $k$-fold cross-validation.\n",
    "To estimate the performance of the model on new data, however, we would need some data points that the model has never seen during training.\n",
    "But when using $k$-fold CV, sooner or later, each model encounters all data points in the training set.\n",
    "\n",
    "To solve this problem, we will set apart a small portion of the data which we will not use during the model selection phase.\n",
    "We call this data the *test data*.\n",
    "After model selection is over, we train the winning model over all the data *but* the test data.\n",
    "Then, we estimate the MSE of the winning model using the test data.\n",
    "Finally, before using the model in production, we retrain it again; this time, on all data we have available.\n",
    "\n",
    "\n",
    "To summarise, we have three types of data.\n",
    "We start by splitting the data into two parts:\n",
    "* The **test data** is kept hidden and is only used after the best model has been selected and tuned.\n",
    "* The rest of the data, which we will call *training+validation data* is used during model selection.\n",
    "When using $k$-fold cross validation, at each iteration of the algorithm this data is further divided:\n",
    "    * $k-1$ folds will be used to train the model. We call this the **training data**.\n",
    "    * One fold will be used to evaluate the trained model. We call this the **validation data**.\n",
    "    \n",
    "The procedure described above is summarised by the following workflow ([source](https://arxiv.org/pdf/1811.12808.pdf)):"
   ]
  },
  {
   "cell_type": "markdown",
   "metadata": {},
   "source": [
    "![](../figures/train-validation-test-workflow.png)"
   ]
  },
  {
   "cell_type": "code",
   "execution_count": 11,
   "metadata": {},
   "outputs": [],
   "source": [
    "from sklearn.model_selection import train_test_split\n",
    "\n",
    "X = d[feature_columns]\n",
    "y = d[label_column]\n",
    "\n",
    "# Here \"tv\" stands for train+validation\n",
    "X_tv, X_test, y_tv, y_test = train_test_split(X, y, test_size = 0.15, random_state = 0)"
   ]
  },
  {
   "cell_type": "code",
   "execution_count": 13,
   "metadata": {},
   "outputs": [],
   "source": [
    "from sklearn.preprocessing import StandardScaler\n",
    "from sklearn.linear_model import LinearRegression\n",
    "from sklearn.model_selection import GridSearchCV, KFold\n",
    "\n",
    "kfold = KFold(n_splits = 5, shuffle = True, random_state = 0)\n",
    "\n",
    "linear_model = make_pipeline(\n",
    "    StandardScaler(),\n",
    "    LinearRegression())\n",
    "\n",
    "quadratic_model = make_pipeline(\n",
    "    StandardScaler(),\n",
    "    PolynomialFeatures(degree = 2),\n",
    "    LinearRegression())\n",
    "\n",
    "quadratic_lasso_model = make_pipeline(\n",
    "    StandardScaler(),\n",
    "    PolynomialFeatures(degree = 2),\n",
    "    GridSearchCV(\n",
    "        estimator = Lasso(max_iter = 10000), \n",
    "        param_grid = {\n",
    "            'alpha': np.logspace(-3, 0, 25)\n",
    "        },\n",
    "        scoring = 'neg_mean_squared_error',\n",
    "        iid = False,\n",
    "        cv = kfold))"
   ]
  },
  {
   "cell_type": "code",
   "execution_count": 14,
   "metadata": {},
   "outputs": [],
   "source": [
    "from sklearn.model_selection import cross_validate\n",
    "\n",
    "linear_scores = cross_validate(linear_model, X_tv, y_tv, scoring = 'neg_mean_squared_error', cv = kfold)\n",
    "linear_score = np.mean(linear_scores['test_score']) * -1"
   ]
  },
  {
   "cell_type": "code",
   "execution_count": 15,
   "metadata": {},
   "outputs": [
    {
     "name": "stdout",
     "output_type": "stream",
     "text": [
      "Linear regression. Validation MSE: 11.4846\n"
     ]
    }
   ],
   "source": [
    "print(f\"Linear regression. Validation MSE: {linear_score:.4f}\")"
   ]
  },
  {
   "cell_type": "code",
   "execution_count": 16,
   "metadata": {},
   "outputs": [],
   "source": [
    "quadratic_scores = cross_validate(quadratic_model, X_tv, y_tv, scoring = 'neg_mean_squared_error', cv = kfold)\n",
    "quadratic_score = np.mean(quadratic_scores['test_score']) * -1"
   ]
  },
  {
   "cell_type": "code",
   "execution_count": 17,
   "metadata": {},
   "outputs": [
    {
     "name": "stdout",
     "output_type": "stream",
     "text": [
      "Quadratic regression. Validation MSE: 8.6427\n"
     ]
    }
   ],
   "source": [
    "print(f\"Quadratic regression. Validation MSE: {quadratic_score:.4f}\")"
   ]
  },
  {
   "cell_type": "code",
   "execution_count": 18,
   "metadata": {},
   "outputs": [],
   "source": [
    "quadratic_lasso_scores = cross_validate(quadratic_lasso_model, X_tv, y_tv, scoring = 'neg_mean_squared_error', cv = kfold)\n",
    "quadratic_lasso_score = np.mean(quadratic_lasso_scores['test_score']) * -1"
   ]
  },
  {
   "cell_type": "code",
   "execution_count": 19,
   "metadata": {},
   "outputs": [
    {
     "name": "stdout",
     "output_type": "stream",
     "text": [
      "Quadratic regression + LASSO. Validation MSE: 7.7798\n"
     ]
    }
   ],
   "source": [
    "print(f\"Quadratic regression + LASSO. Validation MSE: {quadratic_lasso_score:.4f}\")"
   ]
  },
  {
   "cell_type": "markdown",
   "metadata": {},
   "source": [
    "Until now, we have used the training+validation data, to perform model selection.\n",
    "The quadratic regression + LASSO model has turned out to be the \"winner\".\n",
    "\n",
    "Next, we estimate the quality of the winning model, by calculating its MSE on the test data, which the model has not seen during the selection phase.\n",
    "We use this number to have an idea of what performance the model will show in the future, on new data --- if we are scientists, we use this number to put in our published paper to show that our model is better than other people's models.\n",
    "Other than that, the test MSE has no further practical value: we have already determined which model is the \"winner\", and we are going to retrain this winning model over the whole dataset before using it in production.\n",
    "The model we use now, trained on the training+validation data will be short-lived: we use it to estimate the quality of our winner, and then we discard it."
   ]
  },
  {
   "cell_type": "code",
   "execution_count": 20,
   "metadata": {},
   "outputs": [
    {
     "name": "stdout",
     "output_type": "stream",
     "text": [
      "Quadratic regression + LASSO. Test MSE: 7.3082\n"
     ]
    }
   ],
   "source": [
    "from sklearn.metrics import mean_squared_error\n",
    "\n",
    "# Train over the whole training+validation set:\n",
    "quadratic_lasso_model.fit(X_tv, y_tv)\n",
    "\n",
    "# Evaluate the MSE over the test set:\n",
    "test_predictions = quadratic_lasso_model.predict(X_test)\n",
    "test_mse = mean_squared_error(y_test, test_predictions)\n",
    "\n",
    "print(f\"Quadratic regression + LASSO. Test MSE: {test_mse:.4f}\")"
   ]
  },
  {
   "cell_type": "markdown",
   "metadata": {},
   "source": [
    "Finally, we retrain our model over the entire dataset, and we are ready to use it in production!"
   ]
  },
  {
   "cell_type": "code",
   "execution_count": 21,
   "metadata": {},
   "outputs": [
    {
     "data": {
      "text/plain": [
       "Pipeline(memory=None,\n",
       "         steps=[('standardscaler',\n",
       "                 StandardScaler(copy=True, with_mean=True, with_std=True)),\n",
       "                ('polynomialfeatures',\n",
       "                 PolynomialFeatures(degree=2, include_bias=True,\n",
       "                                    interaction_only=False, order='C')),\n",
       "                ('gridsearchcv',\n",
       "                 GridSearchCV(cv=KFold(n_splits=5, random_state=0, shuffle=True),\n",
       "                              error_score='raise-deprecating',\n",
       "                              estimator=Lasso(alpha=1.0, copy_X=Tr...\n",
       "                              param_grid={'alpha': array([0.001     , 0.00133352, 0.00177828, 0.00237137, 0.00316228,\n",
       "       0.00421697, 0.00562341, 0.00749894, 0.01      , 0.01333521,\n",
       "       0.01778279, 0.02371374, 0.03162278, 0.04216965, 0.05623413,\n",
       "       0.07498942, 0.1       , 0.13335214, 0.17782794, 0.23713737,\n",
       "       0.31622777, 0.4216965 , 0.56234133, 0.74989421, 1.        ])},\n",
       "                              pre_dispatch='2*n_jobs', refit=True,\n",
       "                              return_train_score=False,\n",
       "                              scoring='neg_mean_squared_error', verbose=0))],\n",
       "         verbose=False)"
      ]
     },
     "execution_count": 21,
     "metadata": {},
     "output_type": "execute_result"
    }
   ],
   "source": [
    "quadratic_lasso_model.fit(X, y)"
   ]
  },
  {
   "cell_type": "markdown",
   "metadata": {},
   "source": [
    "And, as done in the previous class, we simulate a production run by predicting the MPG for the 1983 SEAT Marbella."
   ]
  },
  {
   "cell_type": "code",
   "execution_count": 26,
   "metadata": {},
   "outputs": [],
   "source": [
    "seat_marbella = [4, 899 * 0.061, 41, 680 * 2.20, 19.2, 83, 2]\n",
    "seat_marbella_mpg = (100 * 3.78) / (1.61 * 5.1)"
   ]
  },
  {
   "cell_type": "code",
   "execution_count": 27,
   "metadata": {},
   "outputs": [],
   "source": [
    "predicted_mpg = quadratic_lasso_model.predict([seat_marbella])"
   ]
  },
  {
   "cell_type": "code",
   "execution_count": 28,
   "metadata": {},
   "outputs": [
    {
     "name": "stdout",
     "output_type": "stream",
     "text": [
      "Seat Marbella 1983. Real mpg: 46.036, predicted MPG: 46.154\n"
     ]
    }
   ],
   "source": [
    "print(\"Seat Marbella 1983. Real mpg: {:.3f}, predicted MPG: {:.3f}\".format(\n",
    "    seat_marbella_mpg,\n",
    "    predicted_mpg[0]))"
   ]
  }
 ],
 "metadata": {
  "kernelspec": {
   "display_name": "Python 3",
   "language": "python",
   "name": "python3"
  },
  "language_info": {
   "codemirror_mode": {
    "name": "ipython",
    "version": 3
   },
   "file_extension": ".py",
   "mimetype": "text/x-python",
   "name": "python",
   "nbconvert_exporter": "python",
   "pygments_lexer": "ipython3",
   "version": "3.7.4"
  }
 },
 "nbformat": 4,
 "nbformat_minor": 2
}
